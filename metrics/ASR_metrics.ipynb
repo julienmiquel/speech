{
  "cells": [
    {
      "cell_type": "markdown",
      "metadata": {
        "id": "-EJDGpMcDWXQ"
      },
      "source": [
        "## ASR Metrics references librairies"
      ]
    },
    {
      "cell_type": "code",
      "execution_count": 11,
      "metadata": {
        "id": "NQgRX3XmCRTM"
      },
      "outputs": [
        {
          "name": "stderr",
          "output_type": "stream",
          "text": [
            "huggingface/tokenizers: The current process just got forked, after parallelism has already been used. Disabling parallelism to avoid deadlocks...\n",
            "To disable this warning, you can either:\n",
            "\t- Avoid using `tokenizers` before the fork if possible\n",
            "\t- Explicitly set the environment variable TOKENIZERS_PARALLELISM=(true | false)\n"
          ]
        },
        {
          "name": "stdout",
          "output_type": "stream",
          "text": [
            "Requirement already satisfied: nltk in /Users/julienmiquel/dev/github-genAI/genAI/.venv/lib/python3.10/site-packages (3.9.1)\n",
            "Requirement already satisfied: evaluate in /Users/julienmiquel/dev/github-genAI/genAI/.venv/lib/python3.10/site-packages (0.4.2)\n",
            "Collecting evaluate\n",
            "  Downloading evaluate-0.4.3-py3-none-any.whl.metadata (9.2 kB)\n",
            "Requirement already satisfied: tokenizers in /Users/julienmiquel/dev/github-genAI/genAI/.venv/lib/python3.10/site-packages (0.19.1)\n",
            "Collecting tokenizers\n",
            "  Downloading tokenizers-0.20.1-cp310-cp310-macosx_11_0_arm64.whl.metadata (6.7 kB)\n",
            "Requirement already satisfied: seqeval in /Users/julienmiquel/dev/github-genAI/genAI/.venv/lib/python3.10/site-packages (1.2.2)\n",
            "Requirement already satisfied: sequence-evaluate in /Users/julienmiquel/dev/github-genAI/genAI/.venv/lib/python3.10/site-packages (0.0.3)\n",
            "Requirement already satisfied: sentence-transformers in /Users/julienmiquel/dev/github-genAI/genAI/.venv/lib/python3.10/site-packages (3.0.1)\n",
            "Collecting sentence-transformers\n",
            "  Downloading sentence_transformers-3.2.0-py3-none-any.whl.metadata (10 kB)\n",
            "Requirement already satisfied: rouge in /Users/julienmiquel/dev/github-genAI/genAI/.venv/lib/python3.10/site-packages (1.0.1)\n",
            "Requirement already satisfied: jiwer in /Users/julienmiquel/dev/github-genAI/genAI/.venv/lib/python3.10/site-packages (3.0.4)\n",
            "Collecting werpy\n",
            "  Downloading werpy-2.1.2.tar.gz (219 kB)\n",
            "  Installing build dependencies ... \u001b[?25ldone\n",
            "\u001b[?25h  Getting requirements to build wheel ... \u001b[?25ldone\n",
            "\u001b[?25h  Installing backend dependencies ... \u001b[?25ldone\n",
            "\u001b[?25h  Preparing metadata (pyproject.toml) ... \u001b[?25ldone\n",
            "\u001b[?25hRequirement already satisfied: click in /Users/julienmiquel/dev/github-genAI/genAI/.venv/lib/python3.10/site-packages (from nltk) (8.1.7)\n",
            "Requirement already satisfied: joblib in /Users/julienmiquel/dev/github-genAI/genAI/.venv/lib/python3.10/site-packages (from nltk) (1.4.2)\n",
            "Requirement already satisfied: regex>=2021.8.3 in /Users/julienmiquel/dev/github-genAI/genAI/.venv/lib/python3.10/site-packages (from nltk) (2024.5.15)\n",
            "Requirement already satisfied: tqdm in /Users/julienmiquel/dev/github-genAI/genAI/.venv/lib/python3.10/site-packages (from nltk) (4.66.5)\n",
            "Requirement already satisfied: datasets>=2.0.0 in /Users/julienmiquel/dev/github-genAI/genAI/.venv/lib/python3.10/site-packages (from evaluate) (2.21.0)\n",
            "Requirement already satisfied: numpy>=1.17 in /Users/julienmiquel/dev/github-genAI/genAI/.venv/lib/python3.10/site-packages (from evaluate) (1.26.4)\n",
            "Requirement already satisfied: dill in /Users/julienmiquel/dev/github-genAI/genAI/.venv/lib/python3.10/site-packages (from evaluate) (0.3.8)\n",
            "Requirement already satisfied: pandas in /Users/julienmiquel/dev/github-genAI/genAI/.venv/lib/python3.10/site-packages (from evaluate) (2.2.3)\n",
            "Requirement already satisfied: requests>=2.19.0 in /Users/julienmiquel/dev/github-genAI/genAI/.venv/lib/python3.10/site-packages (from evaluate) (2.32.3)\n",
            "Requirement already satisfied: xxhash in /Users/julienmiquel/dev/github-genAI/genAI/.venv/lib/python3.10/site-packages (from evaluate) (3.5.0)\n",
            "Requirement already satisfied: multiprocess in /Users/julienmiquel/dev/github-genAI/genAI/.venv/lib/python3.10/site-packages (from evaluate) (0.70.16)\n",
            "Requirement already satisfied: fsspec>=2021.05.0 in /Users/julienmiquel/dev/github-genAI/genAI/.venv/lib/python3.10/site-packages (from fsspec[http]>=2021.05.0->evaluate) (2024.9.0)\n",
            "Requirement already satisfied: huggingface-hub>=0.7.0 in /Users/julienmiquel/dev/github-genAI/genAI/.venv/lib/python3.10/site-packages (from evaluate) (0.23.2)\n",
            "Requirement already satisfied: packaging in /Users/julienmiquel/dev/github-genAI/genAI/.venv/lib/python3.10/site-packages (from evaluate) (24.1)\n",
            "Requirement already satisfied: scikit-learn>=0.21.3 in /Users/julienmiquel/dev/github-genAI/genAI/.venv/lib/python3.10/site-packages (from seqeval) (1.4.1.post1)\n",
            "Requirement already satisfied: transformers<5.0.0,>=4.41.0 in /Users/julienmiquel/dev/github-genAI/genAI/.venv/lib/python3.10/site-packages (from sentence-transformers) (4.41.2)\n",
            "Requirement already satisfied: torch>=1.11.0 in /Users/julienmiquel/dev/github-genAI/genAI/.venv/lib/python3.10/site-packages (from sentence-transformers) (2.2.0)\n",
            "Requirement already satisfied: scipy in /Users/julienmiquel/dev/github-genAI/genAI/.venv/lib/python3.10/site-packages (from sentence-transformers) (1.13.0)\n",
            "Requirement already satisfied: Pillow in /Users/julienmiquel/dev/github-genAI/genAI/.venv/lib/python3.10/site-packages (from sentence-transformers) (10.4.0)\n",
            "Requirement already satisfied: six in /Users/julienmiquel/dev/github-genAI/genAI/.venv/lib/python3.10/site-packages (from rouge) (1.16.0)\n",
            "Requirement already satisfied: rapidfuzz<4,>=3 in /Users/julienmiquel/dev/github-genAI/genAI/.venv/lib/python3.10/site-packages (from jiwer) (3.6.1)\n",
            "Requirement already satisfied: filelock in /Users/julienmiquel/dev/github-genAI/genAI/.venv/lib/python3.10/site-packages (from datasets>=2.0.0->evaluate) (3.16.1)\n",
            "Requirement already satisfied: pyarrow>=15.0.0 in /Users/julienmiquel/dev/github-genAI/genAI/.venv/lib/python3.10/site-packages (from datasets>=2.0.0->evaluate) (17.0.0)\n",
            "Collecting fsspec>=2021.05.0 (from fsspec[http]>=2021.05.0->evaluate)\n",
            "  Using cached fsspec-2024.6.1-py3-none-any.whl.metadata (11 kB)\n",
            "Requirement already satisfied: aiohttp in /Users/julienmiquel/dev/github-genAI/genAI/.venv/lib/python3.10/site-packages (from datasets>=2.0.0->evaluate) (3.10.9)\n",
            "Requirement already satisfied: pyyaml>=5.1 in /Users/julienmiquel/dev/github-genAI/genAI/.venv/lib/python3.10/site-packages (from datasets>=2.0.0->evaluate) (6.0.2)\n",
            "Requirement already satisfied: typing-extensions>=3.7.4.3 in /Users/julienmiquel/dev/github-genAI/genAI/.venv/lib/python3.10/site-packages (from huggingface-hub>=0.7.0->evaluate) (4.12.2)\n",
            "Requirement already satisfied: python-dateutil>=2.8.2 in /Users/julienmiquel/dev/github-genAI/genAI/.venv/lib/python3.10/site-packages (from pandas->evaluate) (2.9.0.post0)\n",
            "Requirement already satisfied: pytz>=2020.1 in /Users/julienmiquel/dev/github-genAI/genAI/.venv/lib/python3.10/site-packages (from pandas->evaluate) (2024.2)\n",
            "Requirement already satisfied: tzdata>=2022.7 in /Users/julienmiquel/dev/github-genAI/genAI/.venv/lib/python3.10/site-packages (from pandas->evaluate) (2024.2)\n",
            "Requirement already satisfied: charset-normalizer<4,>=2 in /Users/julienmiquel/dev/github-genAI/genAI/.venv/lib/python3.10/site-packages (from requests>=2.19.0->evaluate) (3.4.0)\n",
            "Requirement already satisfied: idna<4,>=2.5 in /Users/julienmiquel/dev/github-genAI/genAI/.venv/lib/python3.10/site-packages (from requests>=2.19.0->evaluate) (3.10)\n",
            "Requirement already satisfied: urllib3<3,>=1.21.1 in /Users/julienmiquel/dev/github-genAI/genAI/.venv/lib/python3.10/site-packages (from requests>=2.19.0->evaluate) (2.2.3)\n",
            "Requirement already satisfied: certifi>=2017.4.17 in /Users/julienmiquel/dev/github-genAI/genAI/.venv/lib/python3.10/site-packages (from requests>=2.19.0->evaluate) (2024.7.4)\n",
            "Requirement already satisfied: threadpoolctl>=2.0.0 in /Users/julienmiquel/dev/github-genAI/genAI/.venv/lib/python3.10/site-packages (from scikit-learn>=0.21.3->seqeval) (3.4.0)\n",
            "Requirement already satisfied: sympy in /Users/julienmiquel/dev/github-genAI/genAI/.venv/lib/python3.10/site-packages (from torch>=1.11.0->sentence-transformers) (1.12.1)\n",
            "Requirement already satisfied: networkx in /Users/julienmiquel/dev/github-genAI/genAI/.venv/lib/python3.10/site-packages (from torch>=1.11.0->sentence-transformers) (3.3)\n",
            "Requirement already satisfied: jinja2 in /Users/julienmiquel/dev/github-genAI/genAI/.venv/lib/python3.10/site-packages (from torch>=1.11.0->sentence-transformers) (3.1.4)\n",
            "Requirement already satisfied: safetensors>=0.4.1 in /Users/julienmiquel/dev/github-genAI/genAI/.venv/lib/python3.10/site-packages (from transformers<5.0.0,>=4.41.0->sentence-transformers) (0.4.3)\n",
            "Requirement already satisfied: aiohappyeyeballs>=2.3.0 in /Users/julienmiquel/dev/github-genAI/genAI/.venv/lib/python3.10/site-packages (from aiohttp->datasets>=2.0.0->evaluate) (2.4.3)\n",
            "Requirement already satisfied: aiosignal>=1.1.2 in /Users/julienmiquel/dev/github-genAI/genAI/.venv/lib/python3.10/site-packages (from aiohttp->datasets>=2.0.0->evaluate) (1.3.1)\n",
            "Requirement already satisfied: attrs>=17.3.0 in /Users/julienmiquel/dev/github-genAI/genAI/.venv/lib/python3.10/site-packages (from aiohttp->datasets>=2.0.0->evaluate) (24.2.0)\n",
            "Requirement already satisfied: frozenlist>=1.1.1 in /Users/julienmiquel/dev/github-genAI/genAI/.venv/lib/python3.10/site-packages (from aiohttp->datasets>=2.0.0->evaluate) (1.4.1)\n",
            "Requirement already satisfied: multidict<7.0,>=4.5 in /Users/julienmiquel/dev/github-genAI/genAI/.venv/lib/python3.10/site-packages (from aiohttp->datasets>=2.0.0->evaluate) (6.0.5)\n",
            "Requirement already satisfied: yarl<2.0,>=1.12.0 in /Users/julienmiquel/dev/github-genAI/genAI/.venv/lib/python3.10/site-packages (from aiohttp->datasets>=2.0.0->evaluate) (1.13.1)\n",
            "Requirement already satisfied: async-timeout<5.0,>=4.0 in /Users/julienmiquel/dev/github-genAI/genAI/.venv/lib/python3.10/site-packages (from aiohttp->datasets>=2.0.0->evaluate) (4.0.3)\n",
            "Requirement already satisfied: MarkupSafe>=2.0 in /Users/julienmiquel/dev/github-genAI/genAI/.venv/lib/python3.10/site-packages (from jinja2->torch>=1.11.0->sentence-transformers) (3.0.1)\n",
            "Requirement already satisfied: mpmath<1.4.0,>=1.1.0 in /Users/julienmiquel/dev/github-genAI/genAI/.venv/lib/python3.10/site-packages (from sympy->torch>=1.11.0->sentence-transformers) (1.3.0)\n",
            "Downloading evaluate-0.4.3-py3-none-any.whl (84 kB)\n",
            "Downloading sentence_transformers-3.2.0-py3-none-any.whl (255 kB)\n",
            "Using cached fsspec-2024.6.1-py3-none-any.whl (177 kB)\n",
            "Building wheels for collected packages: werpy\n",
            "  Building wheel for werpy (pyproject.toml) ... \u001b[?25ldone\n",
            "\u001b[?25h  Created wheel for werpy: filename=werpy-2.1.2-cp310-cp310-macosx_14_0_arm64.whl size=39538 sha256=0b86a1d593780fe3a1f28cc67f166fc0be9f78a5f882fddeb2158cd2d5c4b206\n",
            "  Stored in directory: /Users/julienmiquel/Library/Caches/pip/wheels/99/53/3f/1433a81d10ed3aec64cb575b2428810723357f02be8f742e9d\n",
            "Successfully built werpy\n",
            "\u001b[33mWARNING: Error parsing dependencies of textract: .* suffix can only be used with `==` or `!=` operators\n",
            "    extract-msg (<=0.29.*)\n",
            "                 ~~~~~~~^\u001b[0m\u001b[33m\n",
            "\u001b[0mInstalling collected packages: fsspec, werpy, sentence-transformers, evaluate\n",
            "  Attempting uninstall: fsspec\n",
            "    Found existing installation: fsspec 2024.9.0\n",
            "    Uninstalling fsspec-2024.9.0:\n",
            "      Successfully uninstalled fsspec-2024.9.0\n",
            "  Attempting uninstall: sentence-transformers\n",
            "    Found existing installation: sentence-transformers 3.0.1\n",
            "    Uninstalling sentence-transformers-3.0.1:\n",
            "      Successfully uninstalled sentence-transformers-3.0.1\n",
            "  Attempting uninstall: evaluate\n",
            "    Found existing installation: evaluate 0.4.2\n",
            "    Uninstalling evaluate-0.4.2:\n",
            "      Successfully uninstalled evaluate-0.4.2\n",
            "\u001b[31mERROR: pip's dependency resolver does not currently take into account all the packages that are installed. This behaviour is the source of the following dependency conflicts.\n",
            "gcsfs 2024.2.0 requires fsspec==2024.2.0, but you have fsspec 2024.6.1 which is incompatible.\n",
            "gradio-client 0.12.0 requires websockets<12.0,>=10.0, but you have websockets 12.0 which is incompatible.\n",
            "llama-index-llms-langchain 0.1.3 requires langchain<0.2.0,>=0.1.3, but you have langchain 0.2.16 which is incompatible.\n",
            "llama-index-llms-vertex 0.1.8 requires pyarrow<16.0.0,>=15.0.2, but you have pyarrow 17.0.0 which is incompatible.\u001b[0m\u001b[31m\n",
            "\u001b[0mSuccessfully installed evaluate-0.4.3 fsspec-2024.6.1 sentence-transformers-3.2.0 werpy-2.1.2\n"
          ]
        }
      ],
      "source": [
        "!pip install --upgrade nltk evaluate tokenizers seqeval sequence-evaluate sentence-transformers rouge jiwer werpy"
      ]
    },
    {
      "cell_type": "code",
      "execution_count": 9,
      "metadata": {
        "executionInfo": {
          "elapsed": 5,
          "status": "ok",
          "timestamp": 1726655525434,
          "user": {
            "displayName": "",
            "userId": ""
          },
          "user_tz": -120
        },
        "id": "iZNQS1fKz_mY"
      },
      "outputs": [
        {
          "name": "stdout",
          "output_type": "stream",
          "text": [
            "0.5\n"
          ]
        }
      ],
      "source": [
        "# Simple WER compute\n",
        "from jiwer import wer\n",
        "\n",
        "reference = \"hello world\"\n",
        "hypothesis = \"hello duck\"\n",
        "\n",
        "error = wer(reference, hypothesis)\n",
        "\n",
        "print(error)"
      ]
    },
    {
      "cell_type": "code",
      "execution_count": 10,
      "metadata": {},
      "outputs": [
        {
          "name": "stdout",
          "output_type": "stream",
          "text": [
            "sentence 1\n",
            "REF: hello world\n",
            "HYP: hello  duck\n",
            "               S\n",
            "\n",
            "number of sentences: 1\n",
            "substitutions=1 deletions=0 insertions=0 hits=1\n",
            "\n",
            "mer=50.00%\n",
            "wil=75.00%\n",
            "wip=25.00%\n",
            "wer=50.00%\n",
            "\n"
          ]
        }
      ],
      "source": [
        "import jiwer\n",
        "\n",
        "\n",
        "def process_words_list(ground_truth, generated_text):\n",
        "  out = jiwer.process_words(\n",
        "      ground_truth,\n",
        "      generated_text,\n",
        "  )\n",
        "\n",
        "  print(jiwer.visualize_alignment(out))\n",
        "\n",
        "process_words_list(reference, hypothesis)  "
      ]
    },
    {
      "cell_type": "code",
      "execution_count": 29,
      "metadata": {
        "executionInfo": {
          "elapsed": 283,
          "status": "ok",
          "timestamp": 1726655534685,
          "user": {
            "displayName": "",
            "userId": ""
          },
          "user_tz": -120
        },
        "id": "kUCqhV8TwzSC"
      },
      "outputs": [],
      "source": []
    },
    {
      "cell_type": "markdown",
      "metadata": {},
      "source": [
        "# Compute wer and other usefull metrics"
      ]
    },
    {
      "cell_type": "code",
      "execution_count": null,
      "metadata": {
        "colab": {
          "base_uri": "https://localhost:8080/"
        },
        "executionInfo": {
          "elapsed": 949,
          "status": "ok",
          "timestamp": 1726655606560,
          "user": {
            "displayName": "",
            "userId": ""
          },
          "user_tz": -120
        },
        "id": "KK3KitNU0wRq",
        "outputId": "33c7e280-471c-4157-aaf3-ff898faa7019"
      },
      "outputs": [],
      "source": [
        "\n",
        "from seq_eval import SeqEval\n",
        "import evaluate\n",
        "\n",
        "wer_metric = evaluate.load(\"wer\")\n",
        "\n",
        "evaluator = SeqEval()\n",
        "\n",
        "def evaluate_data(predictions, references, verbose=False, cleanup = False):\n",
        "    if cleanup:\n",
        "        references = [x for x in references if x!= '']\n",
        "        predictions = [x for x in predictions if x!= '']\n",
        "\n",
        "    if len(references)!= len(predictions):\n",
        "\n",
        "        min_arr = min(len(references), len(references))\n",
        "        print(f\"Reduce size to {min_arr}\")\n",
        "        predictions = predictions[0:min_arr]\n",
        "        references = references[0:min_arr]\n",
        "\n",
        "\n",
        "    scores = evaluator.evaluate(predictions, references, verbose=verbose)\n",
        "    if verbose: print(scores)\n",
        "\n",
        "    wer = wer_metric.compute(references=references, predictions=predictions)\n",
        "    wer = round(100 * wer, 2)\n",
        "    print(\"WER:\", wer ,end='\\n')\n",
        "    print(\"semantic_textual_similarity:\",scores['semantic_textual_similarity'],end='\\n')\n",
        "    return wer, scores['semantic_textual_similarity']\n",
        "\n",
        "evaluate_data([\"Hello world\"], [\"Hello duck\"])\n"
      ]
    },
    {
      "cell_type": "code",
      "execution_count": 31,
      "metadata": {
        "executionInfo": {
          "elapsed": 279,
          "status": "ok",
          "timestamp": 1726655643641,
          "user": {
            "displayName": "",
            "userId": ""
          },
          "user_tz": -120
        },
        "id": "_NffBK5rCNNv"
      },
      "outputs": [],
      "source": []
    },
    {
      "cell_type": "code",
      "execution_count": 18,
      "metadata": {
        "id": "N1Sstf67OUNv"
      },
      "outputs": [
        {
          "name": "stdout",
          "output_type": "stream",
          "text": [
            "['its very popular in antarctica', 'the sugar bear character']\n"
          ]
        }
      ],
      "source": [
        "import werpy\n",
        "\n",
        "#Example 1 - Normalize a list of text\n",
        "\n",
        "input_data = [\"It's very popular in Antarctica.\",\"The Sugar Bear character\"]\n",
        "reference = werpy.normalize(input_data)\n",
        "print(reference)\n",
        "\n"
      ]
    },
    {
      "cell_type": "code",
      "execution_count": 19,
      "metadata": {
        "executionInfo": {
          "elapsed": 2,
          "status": "ok",
          "timestamp": 1726655782332,
          "user": {
            "displayName": "",
            "userId": ""
          },
          "user_tz": -120
        },
        "id": "5eOuepFAGpM2"
      },
      "outputs": [
        {
          "name": "stdout",
          "output_type": "stream",
          "text": [
            "Before normalization\n",
            "sentence 1\n",
            "REF: ** It's very popular in Antarctica.\n",
            "HYP: it   is very popular in  antarctica\n",
            "      I    S                           S\n",
            "\n",
            "number of sentences: 1\n",
            "substitutions=2 deletions=0 insertions=1 hits=3\n",
            "\n",
            "mer=50.00%\n",
            "wil=70.00%\n",
            "wip=30.00%\n",
            "wer=60.00%\n",
            "\n",
            "After normalization\n",
            "sentence 1\n",
            "REF: ** its very popular in antarctica\n",
            "HYP: it  is very popular in antarctica\n",
            "      I   S                           \n",
            "\n",
            "number of sentences: 1\n",
            "substitutions=1 deletions=0 insertions=1 hits=4\n",
            "\n",
            "mer=33.33%\n",
            "wil=46.67%\n",
            "wip=53.33%\n",
            "wer=40.00%\n",
            "\n"
          ]
        }
      ],
      "source": [
        "input_data = [\"It's very popular in Antarctica.\",\"it is  very popular in antarctica\"]\n",
        "reference = werpy.normalize(input_data)\n",
        "\n",
        "print(\"Before normalization\")\n",
        "process_words_list([input_data[0]], [input_data[1]])\n",
        "\n",
        "print(\"After normalization\")\n",
        "#evaluate_data([reference[0]], [reference[1]])\n",
        "\n",
        "process_words_list([reference[0]], [reference[1]])\n"
      ]
    },
    {
      "cell_type": "code",
      "execution_count": 36,
      "metadata": {
        "executionInfo": {
          "elapsed": 253,
          "status": "ok",
          "timestamp": 1726655784560,
          "user": {
            "displayName": "",
            "userId": ""
          },
          "user_tz": -120
        },
        "id": "PB6MT44eIyRW"
      },
      "outputs": [],
      "source": []
    },
    {
      "cell_type": "code",
      "execution_count": null,
      "metadata": {
        "colab": {
          "base_uri": "https://localhost:8080/"
        },
        "executionInfo": {
          "elapsed": 164124,
          "status": "ok",
          "timestamp": 1726657039282,
          "user": {
            "displayName": "",
            "userId": ""
          },
          "user_tz": -120
        },
        "id": "46m6unH9CWC2",
        "outputId": "9b3456c5-3266-4b7c-c638-f48e73ba2d47"
      },
      "outputs": [],
      "source": []
    },
    {
      "cell_type": "code",
      "execution_count": null,
      "metadata": {
        "colab": {
          "base_uri": "https://localhost:8080/"
        },
        "executionInfo": {
          "elapsed": 258,
          "status": "ok",
          "timestamp": 1726663580629,
          "user": {
            "displayName": "",
            "userId": ""
          },
          "user_tz": -120
        },
        "id": "UxptFtIhnNbX",
        "outputId": "b81c4d24-badc-4168-8b72-a086df13b278"
      },
      "outputs": [],
      "source": []
    }
  ],
  "metadata": {
    "accelerator": "GPU",
    "colab": {
      "gpuType": "T4",
      "name": "STT google speech benchmark.ipynb",
      "provenance": []
    },
    "kernelspec": {
      "display_name": ".venv",
      "language": "python",
      "name": "python3"
    },
    "language_info": {
      "codemirror_mode": {
        "name": "ipython",
        "version": 3
      },
      "file_extension": ".py",
      "mimetype": "text/x-python",
      "name": "python",
      "nbconvert_exporter": "python",
      "pygments_lexer": "ipython3",
      "version": "3.10.14"
    }
  },
  "nbformat": 4,
  "nbformat_minor": 0
}
