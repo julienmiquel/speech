{
 "cells": [
  {
   "cell_type": "markdown",
   "metadata": {},
   "source": [
    "### Install dependencies"
   ]
  },
  {
   "cell_type": "code",
   "execution_count": null,
   "metadata": {},
   "outputs": [],
   "source": [
    "!pip install gizeh\n",
    "!pip install moviepy --upgrade\n",
    "!pip install ffmpeg --upgrade\n"
   ]
  },
  {
   "cell_type": "markdown",
   "metadata": {},
   "source": [
    "### Get audio samples"
   ]
  },
  {
   "cell_type": "code",
   "execution_count": null,
   "metadata": {},
   "outputs": [],
   "source": [
    "# French great podcast \n",
    "!wget https://audio.audiomeans.fr/file/eiYNOubrDD/65beb744-01fc-40e2-8bb0-312c16855cbb.mp3 \n",
    "!mv *.mp3 ../assets/"
   ]
  },
  {
   "cell_type": "code",
   "execution_count": null,
   "metadata": {},
   "outputs": [],
   "source": [
    "# English podcast\n",
    "!gsutil cp gs://github-repo/generative-ai/gemini/long-context/*.mp3 ../assets/"
   ]
  },
  {
   "cell_type": "markdown",
   "metadata": {},
   "source": [
    "## Change the format ==> Convert to video"
   ]
  },
  {
   "cell_type": "code",
   "execution_count": 4,
   "metadata": {},
   "outputs": [],
   "source": [
    "from moviepy.editor import VideoFileClip, TextClip, ColorClip\n",
    "from moviepy.editor import VideoFileClip, AudioFileClip, CompositeAudioClip\n",
    "from pydub.utils import mediainfo\n",
    "\n",
    "\n",
    "\n",
    "def convert_to_video(audio_path):\n",
    "    output_filename = audio_path.replace(\".mp3\", \".mp4\") \n",
    "    #output_filename = audio_path + \".mp4\"\n",
    "    # original_bitrate = mediainfo(audio_path)['bit_rate']\n",
    "    # print(\"original_bitrate:\",original_bitrate)\n",
    "\n",
    "    # print(mediainfo(audio_path))\n",
    "    \n",
    "    # Load audio clips\n",
    "    audio_clips = AudioFileClip(audio_path)\n",
    "    total_audio = audio_clips.duration \n",
    "    print(f\"total_audio = {total_audio}\")\n",
    "    video_clip = ColorClip(size=(1,1), color=(255,255,255) #, duration=total_audio\n",
    "                           )\n",
    "\n",
    "    # Combine and save the video\n",
    "    video_clip = video_clip.set_audio(audio_clips).set_duration(total_audio)\n",
    "    \n",
    "    #video_clip.set_duration(total_audio)\n",
    "    video_clip.write_videofile(\n",
    "        filename=output_filename, fps=1, codec=\"libx264\",\n",
    "                        bitrate=\"1k\", \n",
    "                        audio=True, audio_fps=16000,\n",
    "                        preset=\"medium\",\n",
    "                        audio_nbytes=4, audio_codec=\"libmp3lame\",\n",
    "                        audio_bitrate=\"128k\", audio_bufsize=2000,\n",
    "                        #temp_audiofile=None,\n",
    "                        rewrite_audio=False, remove_temp=True,\n",
    "                        write_logfile=False, verbose=True,\n",
    "                        #threads=None, \n",
    "                        #ffmpeg_params=None\n",
    "    )\n",
    "\n",
    "    return output_filename\n",
    "\n"
   ]
  },
  {
   "cell_type": "markdown",
   "metadata": {},
   "source": [
    "### Convert mp3 to wav"
   ]
  },
  {
   "cell_type": "code",
   "execution_count": null,
   "metadata": {},
   "outputs": [],
   "source": [
    "def convert_to_wav_16k(audio_path):\n",
    "    output_filename = audio_path.replace(\".mp3\", \".wav\") \n",
    "    AudioSegment.from_mp3(audio_path).export(output_filename, format=\"wav\", parameters=[\"-ar\", \"16000\"])\n",
    "\n",
    "    return output_filename"
   ]
  },
  {
   "cell_type": "markdown",
   "metadata": {},
   "source": [
    "### Tests"
   ]
  },
  {
   "cell_type": "code",
   "execution_count": 8,
   "metadata": {},
   "outputs": [],
   "source": [
    "import glob\n",
    "from pydub import AudioSegment\n",
    "\n",
    "\n",
    "root_dir = \"../assets/\"\n",
    "# Get a list of all TSV files in the current folder\n",
    "mp3_files = glob.glob(root_dir=root_dir, pathname=\n",
    "                    \"*.mp3\")                      \n",
    "\n",
    "# Iterate over each mp3 files\n",
    "for mp3_file in mp3_files:\n",
    "    convert_to_video(root_dir+mp3_file)\n",
    "    convert_to_wav_16k(root_dir+mp3_file)"
   ]
  }
 ],
 "metadata": {
  "kernelspec": {
   "display_name": ".venv",
   "language": "python",
   "name": "python3"
  },
  "language_info": {
   "codemirror_mode": {
    "name": "ipython",
    "version": 3
   },
   "file_extension": ".py",
   "mimetype": "text/x-python",
   "name": "python",
   "nbconvert_exporter": "python",
   "pygments_lexer": "ipython3",
   "version": "3.10.14"
  }
 },
 "nbformat": 4,
 "nbformat_minor": 2
}
